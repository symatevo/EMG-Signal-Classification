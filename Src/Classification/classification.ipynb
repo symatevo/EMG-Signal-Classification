{
 "cells": [
  {
   "cell_type": "code",
   "execution_count": 1,
   "id": "4bd625a8-815c-4764-bdc7-ccf6d241cde2",
   "metadata": {},
   "outputs": [
    {
     "data": {
      "text/html": [
       "        <script type=\"text/javascript\">\n",
       "        window.PlotlyConfig = {MathJaxConfig: 'local'};\n",
       "        if (window.MathJax && window.MathJax.Hub && window.MathJax.Hub.Config) {window.MathJax.Hub.Config({SVG: {font: \"STIX-Web\"}});}\n",
       "        if (typeof require !== 'undefined') {\n",
       "        require.undef(\"plotly\");\n",
       "        requirejs.config({\n",
       "            paths: {\n",
       "                'plotly': ['https://cdn.plot.ly/plotly-2.27.0.min']\n",
       "            }\n",
       "        });\n",
       "        require(['plotly'], function(Plotly) {\n",
       "            window._Plotly = Plotly;\n",
       "        });\n",
       "        }\n",
       "        </script>\n",
       "        "
      ]
     },
     "metadata": {},
     "output_type": "display_data"
    }
   ],
   "source": [
    "%matplotlib inline\n",
    "\n",
    "import numpy as np\n",
    "import pandas as pd # Data frames\n",
    "import matplotlib.pyplot as plt # Visuals\n",
    "import seaborn as sns \n",
    "sns.set()\n",
    "import csv\n",
    "import re\n",
    "from sklearn.model_selection import train_test_split # Create training and test sets\n",
    "from sklearn.tree import DecisionTreeClassifier # Decision Trees\n",
    "from sklearn import tree \n",
    "from sklearn.ensemble import RandomForestClassifier # Random Forest\n",
    "from sklearn import svm #SVM\n",
    "from sklearn.metrics import roc_curve # ROC Curves\n",
    "from sklearn.model_selection import cross_val_score  #cross validation \n",
    "from sklearn.metrics import confusion_matrix, precision_score, recall_score, f1_score\n",
    "import pywt\n",
    "from sklearn.metrics import mean_squared_error\n",
    "import plotly.offline as py\n",
    "from scipy import signal\n",
    "import time\n",
    "from scipy.signal import butter, filtfilt\n",
    "py.init_notebook_mode(connected=True)\n",
    "plt.style.use('ggplot')"
   ]
  },
  {
   "cell_type": "code",
   "execution_count": 2,
   "id": "6d9a006b-ab14-4517-b029-83ca1d3a7907",
   "metadata": {},
   "outputs": [],
   "source": [
    "import os"
   ]
  },
  {
   "cell_type": "code",
   "execution_count": 3,
   "id": "0cac9af0-58d9-4bce-8e5f-5c54f5588733",
   "metadata": {},
   "outputs": [
    {
     "data": {
      "text/plain": [
       "'/home/bench-user/data/mt/EMG/EMG-Signal-Classification/Src/Classification'"
      ]
     },
     "execution_count": 3,
     "metadata": {},
     "output_type": "execute_result"
    }
   ],
   "source": [
    "root = os.getcwd()\n",
    "root"
   ]
  },
  {
   "cell_type": "code",
   "execution_count": 4,
   "id": "02e9471e-1fdd-4a26-88d7-a26708d1ca91",
   "metadata": {},
   "outputs": [
    {
     "data": {
      "text/html": [
       "<div>\n",
       "<style scoped>\n",
       "    .dataframe tbody tr th:only-of-type {\n",
       "        vertical-align: middle;\n",
       "    }\n",
       "\n",
       "    .dataframe tbody tr th {\n",
       "        vertical-align: top;\n",
       "    }\n",
       "\n",
       "    .dataframe thead th {\n",
       "        text-align: right;\n",
       "    }\n",
       "</style>\n",
       "<table border=\"1\" class=\"dataframe\">\n",
       "  <thead>\n",
       "    <tr style=\"text-align: right;\">\n",
       "      <th></th>\n",
       "      <th>data1</th>\n",
       "      <th>data2</th>\n",
       "      <th>data3</th>\n",
       "      <th>data4</th>\n",
       "      <th>data5</th>\n",
       "      <th>data6</th>\n",
       "      <th>data7</th>\n",
       "      <th>data8</th>\n",
       "      <th>class</th>\n",
       "    </tr>\n",
       "  </thead>\n",
       "  <tbody>\n",
       "    <tr>\n",
       "      <th>0</th>\n",
       "      <td>17.261028</td>\n",
       "      <td>0.233085</td>\n",
       "      <td>1.054185</td>\n",
       "      <td>3.289182</td>\n",
       "      <td>0.646551</td>\n",
       "      <td>0.323208</td>\n",
       "      <td>0.362880</td>\n",
       "      <td>0.222239</td>\n",
       "      <td>1</td>\n",
       "    </tr>\n",
       "    <tr>\n",
       "      <th>1</th>\n",
       "      <td>18.791972</td>\n",
       "      <td>0.218241</td>\n",
       "      <td>1.004792</td>\n",
       "      <td>3.160344</td>\n",
       "      <td>0.636965</td>\n",
       "      <td>0.303699</td>\n",
       "      <td>0.341973</td>\n",
       "      <td>0.212599</td>\n",
       "      <td>1</td>\n",
       "    </tr>\n",
       "    <tr>\n",
       "      <th>2</th>\n",
       "      <td>7.517735</td>\n",
       "      <td>0.359031</td>\n",
       "      <td>1.352812</td>\n",
       "      <td>4.142039</td>\n",
       "      <td>0.830080</td>\n",
       "      <td>0.440532</td>\n",
       "      <td>0.506595</td>\n",
       "      <td>0.299962</td>\n",
       "      <td>1</td>\n",
       "    </tr>\n",
       "    <tr>\n",
       "      <th>3</th>\n",
       "      <td>0.037226</td>\n",
       "      <td>0.453570</td>\n",
       "      <td>1.555651</td>\n",
       "      <td>4.728338</td>\n",
       "      <td>1.127243</td>\n",
       "      <td>0.557710</td>\n",
       "      <td>0.619816</td>\n",
       "      <td>0.365921</td>\n",
       "      <td>1</td>\n",
       "    </tr>\n",
       "    <tr>\n",
       "      <th>4</th>\n",
       "      <td>0.467514</td>\n",
       "      <td>0.553521</td>\n",
       "      <td>1.653131</td>\n",
       "      <td>4.737151</td>\n",
       "      <td>1.136429</td>\n",
       "      <td>0.603048</td>\n",
       "      <td>0.651832</td>\n",
       "      <td>0.398648</td>\n",
       "      <td>1</td>\n",
       "    </tr>\n",
       "    <tr>\n",
       "      <th>...</th>\n",
       "      <td>...</td>\n",
       "      <td>...</td>\n",
       "      <td>...</td>\n",
       "      <td>...</td>\n",
       "      <td>...</td>\n",
       "      <td>...</td>\n",
       "      <td>...</td>\n",
       "      <td>...</td>\n",
       "      <td>...</td>\n",
       "    </tr>\n",
       "    <tr>\n",
       "      <th>405</th>\n",
       "      <td>0.153274</td>\n",
       "      <td>0.475463</td>\n",
       "      <td>0.523959</td>\n",
       "      <td>2.569312</td>\n",
       "      <td>0.424167</td>\n",
       "      <td>0.154487</td>\n",
       "      <td>0.396791</td>\n",
       "      <td>0.209755</td>\n",
       "      <td>6</td>\n",
       "    </tr>\n",
       "    <tr>\n",
       "      <th>406</th>\n",
       "      <td>0.076447</td>\n",
       "      <td>0.312237</td>\n",
       "      <td>0.342409</td>\n",
       "      <td>2.096912</td>\n",
       "      <td>0.202307</td>\n",
       "      <td>0.025613</td>\n",
       "      <td>-0.019038</td>\n",
       "      <td>0.032626</td>\n",
       "      <td>6</td>\n",
       "    </tr>\n",
       "    <tr>\n",
       "      <th>407</th>\n",
       "      <td>0.079854</td>\n",
       "      <td>0.303897</td>\n",
       "      <td>0.343658</td>\n",
       "      <td>2.109003</td>\n",
       "      <td>0.179577</td>\n",
       "      <td>0.026284</td>\n",
       "      <td>0.005412</td>\n",
       "      <td>0.042748</td>\n",
       "      <td>6</td>\n",
       "    </tr>\n",
       "    <tr>\n",
       "      <th>408</th>\n",
       "      <td>0.057217</td>\n",
       "      <td>0.282835</td>\n",
       "      <td>0.305431</td>\n",
       "      <td>2.049546</td>\n",
       "      <td>0.174430</td>\n",
       "      <td>0.008542</td>\n",
       "      <td>-0.099689</td>\n",
       "      <td>0.000454</td>\n",
       "      <td>6</td>\n",
       "    </tr>\n",
       "    <tr>\n",
       "      <th>409</th>\n",
       "      <td>0.142829</td>\n",
       "      <td>0.293631</td>\n",
       "      <td>0.374111</td>\n",
       "      <td>2.299580</td>\n",
       "      <td>0.133191</td>\n",
       "      <td>0.069670</td>\n",
       "      <td>0.344780</td>\n",
       "      <td>0.164424</td>\n",
       "      <td>6</td>\n",
       "    </tr>\n",
       "  </tbody>\n",
       "</table>\n",
       "<p>410 rows × 9 columns</p>\n",
       "</div>"
      ],
      "text/plain": [
       "         data1     data2     data3     data4     data5     data6     data7  \\\n",
       "0    17.261028  0.233085  1.054185  3.289182  0.646551  0.323208  0.362880   \n",
       "1    18.791972  0.218241  1.004792  3.160344  0.636965  0.303699  0.341973   \n",
       "2     7.517735  0.359031  1.352812  4.142039  0.830080  0.440532  0.506595   \n",
       "3     0.037226  0.453570  1.555651  4.728338  1.127243  0.557710  0.619816   \n",
       "4     0.467514  0.553521  1.653131  4.737151  1.136429  0.603048  0.651832   \n",
       "..         ...       ...       ...       ...       ...       ...       ...   \n",
       "405   0.153274  0.475463  0.523959  2.569312  0.424167  0.154487  0.396791   \n",
       "406   0.076447  0.312237  0.342409  2.096912  0.202307  0.025613 -0.019038   \n",
       "407   0.079854  0.303897  0.343658  2.109003  0.179577  0.026284  0.005412   \n",
       "408   0.057217  0.282835  0.305431  2.049546  0.174430  0.008542 -0.099689   \n",
       "409   0.142829  0.293631  0.374111  2.299580  0.133191  0.069670  0.344780   \n",
       "\n",
       "        data8  class  \n",
       "0    0.222239      1  \n",
       "1    0.212599      1  \n",
       "2    0.299962      1  \n",
       "3    0.365921      1  \n",
       "4    0.398648      1  \n",
       "..        ...    ...  \n",
       "405  0.209755      6  \n",
       "406  0.032626      6  \n",
       "407  0.042748      6  \n",
       "408  0.000454      6  \n",
       "409  0.164424      6  \n",
       "\n",
       "[410 rows x 9 columns]"
      ]
     },
     "execution_count": 4,
     "metadata": {},
     "output_type": "execute_result"
    }
   ],
   "source": [
    "df_approx_dir = root + \"/../Feature_extraction/approx_df.csv\"\n",
    "final_df_approx = pd.read_csv(df_approx_dir, index_col = 0)\n",
    "final_df_approx"
   ]
  },
  {
   "cell_type": "code",
   "execution_count": 5,
   "id": "a4f4a727-b79c-4da9-82b5-13d841656cbf",
   "metadata": {},
   "outputs": [
    {
     "name": "stdout",
     "output_type": "stream",
     "text": [
      "Index(['data1', 'data2', 'data3', 'data4', 'data5', 'data6', 'data7', 'data8'], dtype='object')\n"
     ]
    }
   ],
   "source": [
    "train, test = train_test_split(final_df_approx, test_size = 0.20, random_state = 42)\n",
    "\n",
    "# Create the training test omitting the class\n",
    "# Store the column names in an array, ommiting only the 'class' column\n",
    "column_names = final_df_approx.columns[:-1]\n",
    "print(column_names)\n",
    "training_set = train.loc[:, column_names]#\n",
    "\n",
    "# Next we create the class set \n",
    "class_set = train.loc[:,train.columns=='class']\n",
    "\n",
    "# Next we create the test set doing the same process as the training set\n",
    "test_set = test.loc[:, column_names]\n",
    "\n",
    "test_class_set = test.loc[:, train.columns=='class']\n",
    "\n",
    "true_labels = test_class_set['class'] #for evaluating the metrics"
   ]
  },
  {
   "cell_type": "markdown",
   "id": "1da7216c-df3d-48c8-9381-5f2aed94c0c2",
   "metadata": {},
   "source": [
    "## Decision Tree"
   ]
  },
  {
   "cell_type": "code",
   "execution_count": 6,
   "id": "2dbfac0f-12dd-4ef7-92bc-646650ea6ae1",
   "metadata": {},
   "outputs": [],
   "source": [
    "model_dt1 = tree.DecisionTreeClassifier()\n",
    "model_dt1 = model_dt1.fit(training_set, class_set)"
   ]
  },
  {
   "cell_type": "code",
   "execution_count": 7,
   "id": "b4a39852-a348-4d59-b41f-4f4b019782e8",
   "metadata": {},
   "outputs": [
    {
     "name": "stdout",
     "output_type": "stream",
     "text": [
      "Here is our mean accuracy on the test set:  87.805 %\n"
     ]
    }
   ],
   "source": [
    "# Get the accuracy of the model with criterion 'gini' (The function to measure the quality of a split)\n",
    "accuracy_dt1 = model_dt1.score(test_set, test_class_set['class'])\n",
    "print(\"Here is our mean accuracy on the test set: \", '%.3f' % (accuracy_dt1 * 100), '%')"
   ]
  },
  {
   "cell_type": "code",
   "execution_count": 8,
   "id": "c661a7b9-b46b-4b0d-a393-07863846a6f9",
   "metadata": {},
   "outputs": [],
   "source": [
    "start_time = time.time()\n",
    "predictions_dt = model_dt1.predict(test_set)\n",
    "end_time = time.time()"
   ]
  },
  {
   "cell_type": "code",
   "execution_count": 9,
   "id": "5e123792-62cf-4212-98ad-d3fba252621e",
   "metadata": {},
   "outputs": [
    {
     "name": "stdout",
     "output_type": "stream",
     "text": [
      "Inference time: 0.000736236572265625 seconds\n"
     ]
    }
   ],
   "source": [
    "inference_time_dt = end_time - start_time\n",
    "print(f\"Inference time: {inference_time_dt} seconds\")"
   ]
  },
  {
   "cell_type": "code",
   "execution_count": 10,
   "id": "2e6eb002-f48c-49bb-a4f7-aea50c2882f7",
   "metadata": {},
   "outputs": [
    {
     "name": "stdout",
     "output_type": "stream",
     "text": [
      "Confusion Matrix:\n",
      "[[17  0  0  1  0  0]\n",
      " [ 0 12  1  1  0  2]\n",
      " [ 0  1 10  0  0  0]\n",
      " [ 0  0  1 12  0  0]\n",
      " [ 0  0  0  0 11  0]\n",
      " [ 0  0  0  2  1 10]]\n",
      "Precision: 0.89\n",
      "Recall: 0.88\n",
      "F1-Score: 0.88\n"
     ]
    }
   ],
   "source": [
    "def metrics(true_labels, prediction):\n",
    "    conf_matrix = confusion_matrix(true_labels, prediction)\n",
    "\n",
    "    # Calculate precision\n",
    "    precision = precision_score(true_labels, prediction, average = 'weighted', zero_division= 0)\n",
    "\n",
    "    # Calculate recall\n",
    "    recall = recall_score(true_labels, prediction, average = 'weighted')\n",
    "\n",
    "    # Calculate F1-Score\n",
    "    f1 = f1_score(true_labels, prediction, average = 'weighted')\n",
    "\n",
    "    # Print the confusion matrix and calculated metrics\n",
    "    print(\"Confusion Matrix:\")\n",
    "    print(conf_matrix)\n",
    "    print(f\"Precision: {precision:.2f}\")\n",
    "    print(f\"Recall: {recall:.2f}\")\n",
    "    print(f\"F1-Score: {f1:.2f}\")\n",
    "\n",
    "metrics(true_labels, predictions_dt)"
   ]
  },
  {
   "cell_type": "markdown",
   "id": "9bb696b6-5056-4cc5-8e9a-4271f7515774",
   "metadata": {},
   "source": [
    "## Random Forest"
   ]
  },
  {
   "cell_type": "code",
   "execution_count": 11,
   "id": "e2921f46-d13e-4a42-8e38-e7031ef6f5ce",
   "metadata": {},
   "outputs": [],
   "source": [
    "model_rf = RandomForestClassifier(random_state = 42, \n",
    "                                  criterion='gini',\n",
    "                                  n_estimators = 1000,\n",
    "                                  max_features = 0.25)"
   ]
  },
  {
   "cell_type": "code",
   "execution_count": 12,
   "id": "41aab773-b1eb-4eb0-84fc-2e00b6f111ff",
   "metadata": {},
   "outputs": [
    {
     "name": "stdout",
     "output_type": "stream",
     "text": [
      "[0.17506999 0.10758921 0.17594156 0.15684391 0.08596627 0.09203217\n",
      " 0.17010135 0.03645554]\n"
     ]
    }
   ],
   "source": [
    "model_rf.fit(training_set, class_set['class'])\n",
    "\n",
    "importances = model_rf.feature_importances_\n",
    "print(importances) # so we can keep only data3, data4, and data6 since they are 'the most important' ones"
   ]
  },
  {
   "cell_type": "code",
   "execution_count": 13,
   "id": "226ea7e0-e51c-4f28-889b-f3df012db594",
   "metadata": {},
   "outputs": [
    {
     "name": "stdout",
     "output_type": "stream",
     "text": [
      "97.5609756097561%\n"
     ]
    }
   ],
   "source": [
    "accuracy_rf = model_rf.score(test_set, test_class_set['class'])\n",
    "print(f'{accuracy_rf*100}%')"
   ]
  },
  {
   "cell_type": "code",
   "execution_count": 14,
   "id": "fe7d76f8-946e-43a4-a076-7c4f9771ce86",
   "metadata": {},
   "outputs": [],
   "source": [
    "start_time = time.time()\n",
    "predictions_rf = model_rf.predict(test_set)\n",
    "end_time = time.time()"
   ]
  },
  {
   "cell_type": "code",
   "execution_count": 15,
   "id": "59f5e8d9-c6b5-4dcb-95da-232c14cb77cc",
   "metadata": {},
   "outputs": [
    {
     "name": "stdout",
     "output_type": "stream",
     "text": [
      "Inference time: 0.033833980560302734 seconds\n"
     ]
    }
   ],
   "source": [
    "inference_time_rf = end_time - start_time\n",
    "print(f\"Inference time: {inference_time_rf} seconds\")"
   ]
  },
  {
   "cell_type": "code",
   "execution_count": 16,
   "id": "e87f103d-2b0d-49b1-be61-bce2bab3cb7b",
   "metadata": {},
   "outputs": [
    {
     "name": "stdout",
     "output_type": "stream",
     "text": [
      "Confusion Matrix:\n",
      "[[18  0  0  0  0  0]\n",
      " [ 0 15  0  0  0  1]\n",
      " [ 0  0 10  1  0  0]\n",
      " [ 0  0  0 13  0  0]\n",
      " [ 0  0  0  0 11  0]\n",
      " [ 0  0  0  0  0 13]]\n",
      "Precision: 0.98\n",
      "Recall: 0.98\n",
      "F1-Score: 0.98\n"
     ]
    }
   ],
   "source": [
    "metrics(true_labels, predictions_rf)"
   ]
  },
  {
   "cell_type": "markdown",
   "id": "277b4eee-52b8-4da7-8dd9-075add891592",
   "metadata": {},
   "source": [
    "## SVM"
   ]
  },
  {
   "cell_type": "code",
   "execution_count": 17,
   "id": "8326b1bf-da26-4259-8f77-8ea022991df1",
   "metadata": {},
   "outputs": [],
   "source": [
    "# Train SVM model, rbf kernel\n",
    "model_svm_rbf = svm.SVC() #kernel 'rbf'\n",
    "model_svm_rbf = model_svm_rbf.fit(training_set, class_set['class'])"
   ]
  },
  {
   "cell_type": "code",
   "execution_count": 18,
   "id": "524385c2-ce19-4787-ae5b-64cc5335d492",
   "metadata": {},
   "outputs": [
    {
     "name": "stdout",
     "output_type": "stream",
     "text": [
      "0.823170731707317\n"
     ]
    }
   ],
   "source": [
    "accuracy_svm_rbf = model_svm_rbf.score(training_set, class_set['class'])\n",
    "print(accuracy_svm_rbf)"
   ]
  },
  {
   "cell_type": "code",
   "execution_count": 19,
   "id": "00e24302-192d-422a-83c2-3207be896dd2",
   "metadata": {},
   "outputs": [],
   "source": [
    "start_time = time.time()\n",
    "predictions_svm_rbf = model_svm_rbf.predict(test_set)\n",
    "end_time = time.time()"
   ]
  },
  {
   "cell_type": "code",
   "execution_count": 20,
   "id": "c3d9e835-9c46-4a43-9f85-228bd2e2d22d",
   "metadata": {},
   "outputs": [
    {
     "name": "stdout",
     "output_type": "stream",
     "text": [
      "Inference time: 0.0018963813781738281 seconds\n"
     ]
    }
   ],
   "source": [
    "inference_time_rbf = end_time - start_time\n",
    "print(f\"Inference time: {inference_time_rbf} seconds\")"
   ]
  },
  {
   "cell_type": "code",
   "execution_count": 21,
   "id": "5dd4a411-7c55-4c8d-8d02-c14099676baa",
   "metadata": {},
   "outputs": [
    {
     "name": "stdout",
     "output_type": "stream",
     "text": [
      "Confusion Matrix:\n",
      "[[18  0  0  0  0  0]\n",
      " [ 0 14  1  0  1  0]\n",
      " [ 0  0 11  0  0  0]\n",
      " [ 0  0  6  6  1  0]\n",
      " [ 0  0  0  0 10  1]\n",
      " [ 0  4  0  0  0  9]]\n",
      "Precision: 0.87\n",
      "Recall: 0.83\n",
      "F1-Score: 0.82\n"
     ]
    }
   ],
   "source": [
    "metrics(true_labels, predictions_svm_rbf)"
   ]
  },
  {
   "cell_type": "code",
   "execution_count": 22,
   "id": "1665ec58-e442-4c47-979f-ea2f62520032",
   "metadata": {},
   "outputs": [],
   "source": [
    "# Train SVM model, linear kernel\n",
    "model_svm_lin = svm.SVC(kernel = 'linear') \n",
    "model_svm_lin = model_svm_lin.fit(training_set, class_set['class'])"
   ]
  },
  {
   "cell_type": "code",
   "execution_count": 23,
   "id": "24a0451a-0302-4933-90db-62994266a76f",
   "metadata": {},
   "outputs": [],
   "source": [
    "start_time = time.time()\n",
    "predictions_svm_lin = model_svm_lin.predict(test_set)\n",
    "end_time = time.time()"
   ]
  },
  {
   "cell_type": "code",
   "execution_count": 24,
   "id": "902c17bf-835e-4619-8659-334bff867c61",
   "metadata": {},
   "outputs": [
    {
     "name": "stdout",
     "output_type": "stream",
     "text": [
      "Inference time: 0.0010564327239990234 seconds\n"
     ]
    }
   ],
   "source": [
    "inference_time_svm_lin = end_time - start_time\n",
    "print(f\"Inference time: {inference_time_svm_lin} seconds\")"
   ]
  },
  {
   "cell_type": "code",
   "execution_count": 25,
   "id": "8b7ad01e-8b9f-4302-a14b-a3dd86139ac3",
   "metadata": {},
   "outputs": [
    {
     "name": "stdout",
     "output_type": "stream",
     "text": [
      "Confusion Matrix:\n",
      "[[18  0  0  0  0  0]\n",
      " [ 0 14  1  0  1  0]\n",
      " [ 0  0 11  0  0  0]\n",
      " [ 0  0  0 13  0  0]\n",
      " [ 0  0  0  0 11  0]\n",
      " [ 0  0  0  1  0 12]]\n",
      "Precision: 0.97\n",
      "Recall: 0.96\n",
      "F1-Score: 0.96\n"
     ]
    }
   ],
   "source": [
    "metrics(true_labels, predictions_svm_lin)"
   ]
  },
  {
   "cell_type": "code",
   "execution_count": 26,
   "id": "7bbf55f8-d308-4520-84dd-f3317e47ab88",
   "metadata": {},
   "outputs": [
    {
     "name": "stdout",
     "output_type": "stream",
     "text": [
      "0.926829268292683\n"
     ]
    }
   ],
   "source": [
    "accuracy_svm_lin = model_svm_lin.score(training_set, class_set['class'])\n",
    "print(accuracy_svm_lin)"
   ]
  },
  {
   "cell_type": "code",
   "execution_count": 27,
   "id": "c45b976d-7174-42f8-a87c-feffb0a18900",
   "metadata": {},
   "outputs": [],
   "source": [
    "# Train SVM model, polynomial kernel\n",
    "model_svm_poly = svm.SVC(kernel = 'poly')\n",
    "model_svm_poly = model_svm_poly.fit(training_set, class_set['class'])"
   ]
  },
  {
   "cell_type": "code",
   "execution_count": 28,
   "id": "538b8eba-1920-4064-8aeb-fe2b7cdc6d5c",
   "metadata": {},
   "outputs": [],
   "source": [
    "start_time = time.time()\n",
    "predictions_svm_poly = model_svm_poly.predict(test_set)\n",
    "end_time = time.time()"
   ]
  },
  {
   "cell_type": "code",
   "execution_count": 29,
   "id": "67df875f-ef1e-484f-aa8c-d95e8e3f08b8",
   "metadata": {},
   "outputs": [
    {
     "name": "stdout",
     "output_type": "stream",
     "text": [
      "Inference time: 0.0015423297882080078 seconds\n"
     ]
    }
   ],
   "source": [
    "inference_time_poly = end_time - start_time\n",
    "print(f\"Inference time: {inference_time_poly} seconds\")"
   ]
  },
  {
   "cell_type": "code",
   "execution_count": 30,
   "id": "0814277b-a8a7-41fe-9e0b-2a7748f0479a",
   "metadata": {},
   "outputs": [
    {
     "name": "stdout",
     "output_type": "stream",
     "text": [
      "Confusion Matrix:\n",
      "[[18  0  0  0  0  0]\n",
      " [ 0 15  1  0  0  0]\n",
      " [ 0  1 10  0  0  0]\n",
      " [ 0  4  8  0  1  0]\n",
      " [ 0  0  2  0  9  0]\n",
      " [ 0  4  2  0  0  7]]\n",
      "Precision: 0.68\n",
      "Recall: 0.72\n",
      "F1-Score: 0.67\n"
     ]
    }
   ],
   "source": [
    "metrics(true_labels, predictions_svm_poly)"
   ]
  },
  {
   "cell_type": "code",
   "execution_count": 31,
   "id": "4c777c8e-9ab4-455e-b9f4-99f773f04844",
   "metadata": {},
   "outputs": [
    {
     "name": "stdout",
     "output_type": "stream",
     "text": [
      "0.7225609756097561\n"
     ]
    }
   ],
   "source": [
    "accuracy_svm_poly = model_svm_poly.score(training_set, class_set['class'])\n",
    "print(accuracy_svm_poly)"
   ]
  },
  {
   "cell_type": "code",
   "execution_count": null,
   "id": "95538d8f-9a87-461f-9a61-90e9ea475783",
   "metadata": {},
   "outputs": [],
   "source": []
  },
  {
   "cell_type": "markdown",
   "id": "8cd5ae44-f0ec-4e26-b4bb-a5d02af5013b",
   "metadata": {},
   "source": [
    "## RNN\n"
   ]
  },
  {
   "cell_type": "code",
   "execution_count": 32,
   "id": "993348c6-ca64-4732-a04b-e6ba4a3c9765",
   "metadata": {},
   "outputs": [
    {
     "name": "stderr",
     "output_type": "stream",
     "text": [
      "2023-12-10 18:01:50.231151: I tensorflow/core/util/port.cc:113] oneDNN custom operations are on. You may see slightly different numerical results due to floating-point round-off errors from different computation orders. To turn them off, set the environment variable `TF_ENABLE_ONEDNN_OPTS=0`.\n",
      "2023-12-10 18:01:50.233591: I external/local_tsl/tsl/cuda/cudart_stub.cc:31] Could not find cuda drivers on your machine, GPU will not be used.\n",
      "2023-12-10 18:01:50.262198: E external/local_xla/xla/stream_executor/cuda/cuda_dnn.cc:9261] Unable to register cuDNN factory: Attempting to register factory for plugin cuDNN when one has already been registered\n",
      "2023-12-10 18:01:50.262215: E external/local_xla/xla/stream_executor/cuda/cuda_fft.cc:607] Unable to register cuFFT factory: Attempting to register factory for plugin cuFFT when one has already been registered\n",
      "2023-12-10 18:01:50.263022: E external/local_xla/xla/stream_executor/cuda/cuda_blas.cc:1515] Unable to register cuBLAS factory: Attempting to register factory for plugin cuBLAS when one has already been registered\n",
      "2023-12-10 18:01:50.268005: I external/local_tsl/tsl/cuda/cudart_stub.cc:31] Could not find cuda drivers on your machine, GPU will not be used.\n",
      "2023-12-10 18:01:50.268940: I tensorflow/core/platform/cpu_feature_guard.cc:182] This TensorFlow binary is optimized to use available CPU instructions in performance-critical operations.\n",
      "To enable the following instructions: AVX2 AVX512F AVX512_VNNI AVX512_BF16 AVX_VNNI AMX_TILE AMX_INT8 AMX_BF16 FMA, in other operations, rebuild TensorFlow with the appropriate compiler flags.\n",
      "2023-12-10 18:01:51.119314: W tensorflow/compiler/tf2tensorrt/utils/py_utils.cc:38] TF-TRT Warning: Could not find TensorRT\n"
     ]
    },
    {
     "name": "stdout",
     "output_type": "stream",
     "text": [
      "Epoch 1/100\n"
     ]
    },
    {
     "name": "stderr",
     "output_type": "stream",
     "text": [
      "2023-12-10 18:01:52.020362: E external/local_xla/xla/stream_executor/cuda/cuda_driver.cc:274] failed call to cuInit: CUDA_ERROR_NO_DEVICE: no CUDA-capable device is detected\n"
     ]
    },
    {
     "name": "stdout",
     "output_type": "stream",
     "text": [
      "9/9 [==============================] - 1s 2ms/step - loss: 1.9788 - accuracy: 0.2265\n",
      "Epoch 2/100\n",
      "9/9 [==============================] - 0s 1ms/step - loss: 1.8791 - accuracy: 0.1394\n",
      "Epoch 3/100\n",
      "9/9 [==============================] - 0s 1ms/step - loss: 1.8143 - accuracy: 0.1638\n",
      "Epoch 4/100\n",
      "9/9 [==============================] - 0s 1ms/step - loss: 1.7613 - accuracy: 0.1742\n",
      "Epoch 5/100\n",
      "9/9 [==============================] - 0s 1ms/step - loss: 1.7254 - accuracy: 0.1882\n",
      "Epoch 6/100\n",
      "9/9 [==============================] - 0s 1ms/step - loss: 1.6910 - accuracy: 0.1882\n",
      "Epoch 7/100\n",
      "9/9 [==============================] - 0s 1ms/step - loss: 1.6628 - accuracy: 0.1916\n",
      "Epoch 8/100\n",
      "9/9 [==============================] - 0s 1ms/step - loss: 1.6366 - accuracy: 0.1916\n",
      "Epoch 9/100\n",
      "9/9 [==============================] - 0s 1ms/step - loss: 1.6116 - accuracy: 0.1951\n",
      "Epoch 10/100\n",
      "9/9 [==============================] - 0s 2ms/step - loss: 1.5869 - accuracy: 0.2125\n",
      "Epoch 11/100\n",
      "9/9 [==============================] - 0s 1ms/step - loss: 1.5641 - accuracy: 0.2300\n",
      "Epoch 12/100\n",
      "9/9 [==============================] - 0s 1ms/step - loss: 1.5416 - accuracy: 0.2474\n",
      "Epoch 13/100\n",
      "9/9 [==============================] - 0s 1ms/step - loss: 1.5220 - accuracy: 0.3031\n",
      "Epoch 14/100\n",
      "9/9 [==============================] - 0s 2ms/step - loss: 1.5001 - accuracy: 0.3972\n",
      "Epoch 15/100\n",
      "9/9 [==============================] - 0s 1ms/step - loss: 1.4802 - accuracy: 0.4425\n",
      "Epoch 16/100\n",
      "9/9 [==============================] - 0s 1ms/step - loss: 1.4596 - accuracy: 0.4739\n",
      "Epoch 17/100\n",
      "9/9 [==============================] - 0s 1ms/step - loss: 1.4332 - accuracy: 0.5749\n",
      "Epoch 18/100\n",
      "9/9 [==============================] - 0s 1ms/step - loss: 1.4100 - accuracy: 0.6934\n",
      "Epoch 19/100\n",
      "9/9 [==============================] - 0s 1ms/step - loss: 1.3874 - accuracy: 0.7143\n",
      "Epoch 20/100\n",
      "9/9 [==============================] - 0s 2ms/step - loss: 1.3651 - accuracy: 0.6969\n",
      "Epoch 21/100\n",
      "9/9 [==============================] - 0s 1ms/step - loss: 1.3441 - accuracy: 0.7735\n",
      "Epoch 22/100\n",
      "9/9 [==============================] - 0s 1ms/step - loss: 1.3246 - accuracy: 0.7979\n",
      "Epoch 23/100\n",
      "9/9 [==============================] - 0s 1ms/step - loss: 1.3045 - accuracy: 0.8049\n",
      "Epoch 24/100\n",
      "9/9 [==============================] - 0s 2ms/step - loss: 1.2846 - accuracy: 0.8084\n",
      "Epoch 25/100\n",
      "9/9 [==============================] - 0s 1ms/step - loss: 1.2635 - accuracy: 0.8362\n",
      "Epoch 26/100\n",
      "9/9 [==============================] - 0s 2ms/step - loss: 1.2450 - accuracy: 0.8293\n",
      "Epoch 27/100\n",
      "9/9 [==============================] - 0s 2ms/step - loss: 1.2251 - accuracy: 0.8467\n",
      "Epoch 28/100\n",
      "9/9 [==============================] - 0s 1ms/step - loss: 1.2048 - accuracy: 0.8641\n",
      "Epoch 29/100\n",
      "9/9 [==============================] - 0s 1ms/step - loss: 1.1872 - accuracy: 0.8711\n",
      "Epoch 30/100\n",
      "9/9 [==============================] - 0s 1ms/step - loss: 1.1674 - accuracy: 0.8676\n",
      "Epoch 31/100\n",
      "9/9 [==============================] - 0s 1ms/step - loss: 1.1487 - accuracy: 0.8502\n",
      "Epoch 32/100\n",
      "9/9 [==============================] - 0s 1ms/step - loss: 1.1297 - accuracy: 0.8571\n",
      "Epoch 33/100\n",
      "9/9 [==============================] - 0s 1ms/step - loss: 1.1127 - accuracy: 0.8676\n",
      "Epoch 34/100\n",
      "9/9 [==============================] - 0s 1ms/step - loss: 1.0918 - accuracy: 0.8746\n",
      "Epoch 35/100\n",
      "9/9 [==============================] - 0s 1ms/step - loss: 1.0728 - accuracy: 0.8711\n",
      "Epoch 36/100\n",
      "9/9 [==============================] - 0s 1ms/step - loss: 1.0541 - accuracy: 0.8571\n",
      "Epoch 37/100\n",
      "9/9 [==============================] - 0s 1ms/step - loss: 1.0343 - accuracy: 0.8711\n",
      "Epoch 38/100\n",
      "9/9 [==============================] - 0s 1ms/step - loss: 1.0195 - accuracy: 0.8850\n",
      "Epoch 39/100\n",
      "9/9 [==============================] - 0s 1ms/step - loss: 0.9985 - accuracy: 0.8815\n",
      "Epoch 40/100\n",
      "9/9 [==============================] - 0s 1ms/step - loss: 0.9802 - accuracy: 0.8571\n",
      "Epoch 41/100\n",
      "9/9 [==============================] - 0s 1ms/step - loss: 0.9616 - accuracy: 0.8606\n",
      "Epoch 42/100\n",
      "9/9 [==============================] - 0s 1ms/step - loss: 0.9449 - accuracy: 0.8711\n",
      "Epoch 43/100\n",
      "9/9 [==============================] - 0s 1ms/step - loss: 0.9272 - accuracy: 0.8780\n",
      "Epoch 44/100\n",
      "9/9 [==============================] - 0s 1ms/step - loss: 0.9114 - accuracy: 0.8606\n",
      "Epoch 45/100\n",
      "9/9 [==============================] - 0s 1ms/step - loss: 0.8936 - accuracy: 0.8641\n",
      "Epoch 46/100\n",
      "9/9 [==============================] - 0s 2ms/step - loss: 0.8784 - accuracy: 0.8746\n",
      "Epoch 47/100\n",
      "9/9 [==============================] - 0s 1ms/step - loss: 0.8620 - accuracy: 0.8746\n",
      "Epoch 48/100\n",
      "9/9 [==============================] - 0s 1ms/step - loss: 0.8466 - accuracy: 0.8746\n",
      "Epoch 49/100\n",
      "9/9 [==============================] - 0s 2ms/step - loss: 0.8304 - accuracy: 0.8815\n",
      "Epoch 50/100\n",
      "9/9 [==============================] - 0s 1ms/step - loss: 0.8153 - accuracy: 0.8850\n",
      "Epoch 51/100\n",
      "9/9 [==============================] - 0s 1ms/step - loss: 0.8005 - accuracy: 0.8780\n",
      "Epoch 52/100\n",
      "9/9 [==============================] - 0s 1ms/step - loss: 0.7863 - accuracy: 0.8780\n",
      "Epoch 53/100\n",
      "9/9 [==============================] - 0s 2ms/step - loss: 0.7719 - accuracy: 0.8850\n",
      "Epoch 54/100\n",
      "9/9 [==============================] - 0s 1ms/step - loss: 0.7598 - accuracy: 0.8746\n",
      "Epoch 55/100\n",
      "9/9 [==============================] - 0s 1ms/step - loss: 0.7445 - accuracy: 0.8780\n",
      "Epoch 56/100\n",
      "9/9 [==============================] - 0s 1ms/step - loss: 0.7322 - accuracy: 0.8815\n",
      "Epoch 57/100\n",
      "9/9 [==============================] - 0s 1ms/step - loss: 0.7185 - accuracy: 0.8885\n",
      "Epoch 58/100\n",
      "9/9 [==============================] - 0s 1ms/step - loss: 0.7052 - accuracy: 0.8885\n",
      "Epoch 59/100\n",
      "9/9 [==============================] - 0s 1ms/step - loss: 0.6938 - accuracy: 0.8955\n",
      "Epoch 60/100\n",
      "9/9 [==============================] - 0s 1ms/step - loss: 0.6823 - accuracy: 0.8955\n",
      "Epoch 61/100\n",
      "9/9 [==============================] - 0s 1ms/step - loss: 0.6710 - accuracy: 0.8955\n",
      "Epoch 62/100\n",
      "9/9 [==============================] - 0s 2ms/step - loss: 0.6590 - accuracy: 0.8990\n",
      "Epoch 63/100\n",
      "9/9 [==============================] - 0s 1ms/step - loss: 0.6463 - accuracy: 0.9024\n",
      "Epoch 64/100\n",
      "9/9 [==============================] - 0s 2ms/step - loss: 0.6357 - accuracy: 0.8920\n",
      "Epoch 65/100\n",
      "9/9 [==============================] - 0s 1ms/step - loss: 0.6250 - accuracy: 0.8850\n",
      "Epoch 66/100\n",
      "9/9 [==============================] - 0s 1ms/step - loss: 0.6161 - accuracy: 0.8920\n",
      "Epoch 67/100\n",
      "9/9 [==============================] - 0s 1ms/step - loss: 0.6045 - accuracy: 0.9024\n",
      "Epoch 68/100\n",
      "9/9 [==============================] - 0s 1ms/step - loss: 0.5943 - accuracy: 0.9024\n",
      "Epoch 69/100\n",
      "9/9 [==============================] - 0s 1ms/step - loss: 0.5843 - accuracy: 0.9059\n",
      "Epoch 70/100\n",
      "9/9 [==============================] - 0s 2ms/step - loss: 0.5747 - accuracy: 0.9024\n",
      "Epoch 71/100\n",
      "9/9 [==============================] - 0s 1ms/step - loss: 0.5653 - accuracy: 0.9059\n",
      "Epoch 72/100\n",
      "9/9 [==============================] - 0s 1ms/step - loss: 0.5562 - accuracy: 0.9164\n",
      "Epoch 73/100\n",
      "9/9 [==============================] - 0s 1ms/step - loss: 0.5465 - accuracy: 0.9199\n",
      "Epoch 74/100\n",
      "9/9 [==============================] - 0s 1ms/step - loss: 0.5382 - accuracy: 0.9303\n",
      "Epoch 75/100\n",
      "9/9 [==============================] - 0s 1ms/step - loss: 0.5306 - accuracy: 0.9164\n",
      "Epoch 76/100\n",
      "9/9 [==============================] - 0s 1ms/step - loss: 0.5226 - accuracy: 0.9268\n",
      "Epoch 77/100\n",
      "9/9 [==============================] - 0s 2ms/step - loss: 0.5124 - accuracy: 0.9233\n",
      "Epoch 78/100\n",
      "9/9 [==============================] - 0s 1ms/step - loss: 0.5058 - accuracy: 0.9164\n",
      "Epoch 79/100\n",
      "9/9 [==============================] - 0s 1ms/step - loss: 0.4970 - accuracy: 0.9164\n",
      "Epoch 80/100\n",
      "9/9 [==============================] - 0s 1ms/step - loss: 0.4892 - accuracy: 0.9268\n",
      "Epoch 81/100\n",
      "9/9 [==============================] - 0s 2ms/step - loss: 0.4821 - accuracy: 0.9233\n",
      "Epoch 82/100\n",
      "9/9 [==============================] - 0s 1ms/step - loss: 0.4745 - accuracy: 0.9233\n",
      "Epoch 83/100\n",
      "9/9 [==============================] - 0s 2ms/step - loss: 0.4682 - accuracy: 0.9268\n",
      "Epoch 84/100\n",
      "9/9 [==============================] - 0s 1ms/step - loss: 0.4601 - accuracy: 0.9268\n",
      "Epoch 85/100\n",
      "9/9 [==============================] - 0s 2ms/step - loss: 0.4531 - accuracy: 0.9268\n",
      "Epoch 86/100\n",
      "9/9 [==============================] - 0s 1ms/step - loss: 0.4468 - accuracy: 0.9303\n",
      "Epoch 87/100\n",
      "9/9 [==============================] - 0s 1ms/step - loss: 0.4399 - accuracy: 0.9303\n",
      "Epoch 88/100\n",
      "9/9 [==============================] - 0s 1ms/step - loss: 0.4342 - accuracy: 0.9303\n",
      "Epoch 89/100\n",
      "9/9 [==============================] - 0s 1ms/step - loss: 0.4270 - accuracy: 0.9303\n",
      "Epoch 90/100\n",
      "9/9 [==============================] - 0s 2ms/step - loss: 0.4205 - accuracy: 0.9338\n",
      "Epoch 91/100\n",
      "9/9 [==============================] - 0s 2ms/step - loss: 0.4143 - accuracy: 0.9338\n",
      "Epoch 92/100\n",
      "9/9 [==============================] - 0s 1ms/step - loss: 0.4093 - accuracy: 0.9303\n",
      "Epoch 93/100\n",
      "9/9 [==============================] - 0s 1ms/step - loss: 0.4028 - accuracy: 0.9338\n",
      "Epoch 94/100\n",
      "9/9 [==============================] - 0s 1ms/step - loss: 0.3968 - accuracy: 0.9338\n",
      "Epoch 95/100\n",
      "9/9 [==============================] - 0s 1ms/step - loss: 0.3908 - accuracy: 0.9303\n",
      "Epoch 96/100\n",
      "9/9 [==============================] - 0s 1ms/step - loss: 0.3852 - accuracy: 0.9338\n",
      "Epoch 97/100\n",
      "9/9 [==============================] - 0s 2ms/step - loss: 0.3802 - accuracy: 0.9303\n",
      "Epoch 98/100\n",
      "9/9 [==============================] - 0s 2ms/step - loss: 0.3746 - accuracy: 0.9303\n",
      "Epoch 99/100\n",
      "9/9 [==============================] - 0s 2ms/step - loss: 0.3703 - accuracy: 0.9338\n",
      "Epoch 100/100\n",
      "9/9 [==============================] - 0s 1ms/step - loss: 0.3656 - accuracy: 0.9338\n",
      "4/4 [==============================] - 0s 2ms/step - loss: 0.4305 - accuracy: 0.9106\n",
      "Model Accuracy: 91.05691313743591%\n"
     ]
    }
   ],
   "source": [
    "from keras.models import Sequential\n",
    "from keras.layers import SimpleRNN, Dense\n",
    "from tensorflow.keras.utils import to_categorical\n",
    "from sklearn.model_selection import train_test_split\n",
    "import numpy as np\n",
    "\n",
    "column_names = final_df_approx.columns[:-1]\n",
    "X = final_df_approx.loc[:, column_names]\n",
    "y = final_df_approx.loc[:, 'class']  # Simplify y extraction\n",
    "y_encoded = to_categorical(y)\n",
    "X_train, X_test, y_train, y_test = train_test_split(X, y_encoded, test_size=0.3)\n",
    "\n",
    "# Convert DataFrames to NumPy arrays and then reshape for RNN\n",
    "X_train = np.array(X_train).reshape(X_train.shape[0], 1, X_train.shape[1])\n",
    "X_test = np.array(X_test).reshape(X_test.shape[0], 1, X_test.shape[1])\n",
    "\n",
    "# Build the model\n",
    "model = Sequential()\n",
    "model.add(SimpleRNN(50, input_shape=(1, X_train.shape[2]), activation='relu'))\n",
    "model.add(Dense(y_encoded.shape[1], activation='softmax'))\n",
    "\n",
    "# Compile the model\n",
    "model.compile(loss='categorical_crossentropy', optimizer='adam', metrics=['accuracy'])\n",
    "\n",
    "# Train the model\n",
    "model.fit(X_train, y_train, epochs=100, batch_size=32)\n",
    "\n",
    "# Evaluate the model\n",
    "accuracy_rnn = model.evaluate(X_test, y_test)[1] * 100\n",
    "\n",
    "print(f\"Model Accuracy: {accuracy_rnn}%\")"
   ]
  },
  {
   "cell_type": "code",
   "execution_count": 33,
   "id": "99c3f1b8-c8c3-4120-ba8e-719ff3aedba3",
   "metadata": {},
   "outputs": [
    {
     "name": "stdout",
     "output_type": "stream",
     "text": [
      "4/4 [==============================] - 0s 2ms/step\n"
     ]
    }
   ],
   "source": [
    "start_time = time.time()\n",
    "predictions_rnn = model.predict(X_test)\n",
    "end_time = time.time()"
   ]
  },
  {
   "cell_type": "code",
   "execution_count": 35,
   "id": "f7d3fb20-1ae4-411c-bcd4-db10f0162006",
   "metadata": {},
   "outputs": [
    {
     "name": "stdout",
     "output_type": "stream",
     "text": [
      "Inference time: 0.14040088653564453 seconds\n"
     ]
    }
   ],
   "source": [
    "inference_time_rnn = end_time - start_time\n",
    "print(f\"Inference time: {inference_time_rnn} seconds\")"
   ]
  },
  {
   "cell_type": "markdown",
   "id": "ae5c071f-3b85-4b45-9f87-8dee096eea70",
   "metadata": {},
   "source": [
    "## Summary"
   ]
  },
  {
   "cell_type": "code",
   "execution_count": 36,
   "id": "4b823755-cc91-4a23-97e4-ec5bc499c02f",
   "metadata": {},
   "outputs": [
    {
     "name": "stdout",
     "output_type": "stream",
     "text": [
      "/home/bench-user/data/mt/EMG/EMG-Signal-Classification/Src/Classification\n",
      "DT :  87.8048780487805\n",
      "RF :  97.5609756097561\n",
      "SVM_rbf : 82.3170731707317\n",
      "SVM_lin : 92.6829268292683\n",
      "SVM_poly : 72.2560975609756\n",
      "RNN : 91.05691313743591\n"
     ]
    }
   ],
   "source": [
    "print(root)\n",
    "print(\"DT : \", accuracy_dt1 * 100)\n",
    "print(\"RF : \", accuracy_rf * 100)\n",
    "print(\"SVM_rbf :\", accuracy_svm_rbf * 100)\n",
    "print(\"SVM_lin :\", accuracy_svm_lin * 100)\n",
    "print(\"SVM_poly :\", accuracy_svm_poly * 100)\n",
    "print(\"RNN :\", accuracy_rnn)"
   ]
  },
  {
   "cell_type": "code",
   "execution_count": 38,
   "id": "9cb822b6-fcf2-4152-a4bb-c342aa7e3399",
   "metadata": {},
   "outputs": [
    {
     "name": "stdout",
     "output_type": "stream",
     "text": [
      "DT :  0.000736236572265625\n",
      "RF :  0.033833980560302734\n",
      "SVM_rbf : 0.0018963813781738281\n",
      "SVM_lin : 0.0010564327239990234\n",
      "SVM_poly : 0.0015423297882080078\n",
      "RNN : 0.14040088653564453\n"
     ]
    }
   ],
   "source": [
    "print(\"DT : \", inference_time_dt)\n",
    "print(\"RF : \", inference_time_rf)\n",
    "print(\"SVM_rbf :\", inference_time_rbf)\n",
    "print(\"SVM_lin :\", inference_time_svm_lin)\n",
    "print(\"SVM_poly :\", inference_time_poly)\n",
    "print(\"RNN :\", inference_time_rnn)"
   ]
  },
  {
   "cell_type": "code",
   "execution_count": null,
   "id": "93783a39-730b-4c2b-b021-b2ed555e588e",
   "metadata": {},
   "outputs": [],
   "source": []
  }
 ],
 "metadata": {
  "kernelspec": {
   "display_name": "Python 3 (ipykernel)",
   "language": "python",
   "name": "python3"
  },
  "language_info": {
   "codemirror_mode": {
    "name": "ipython",
    "version": 3
   },
   "file_extension": ".py",
   "mimetype": "text/x-python",
   "name": "python",
   "nbconvert_exporter": "python",
   "pygments_lexer": "ipython3",
   "version": "3.10.13"
  }
 },
 "nbformat": 4,
 "nbformat_minor": 5
}
